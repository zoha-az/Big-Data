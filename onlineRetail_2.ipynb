{
 "cells": [
  {
   "cell_type": "markdown",
   "id": "f13a0ccc",
   "metadata": {},
   "source": [
    "Online retail dataset from UCI: https://archive.ics.uci.edu/ml/datasets/Online+Retail+II"
   ]
  },
  {
   "cell_type": "markdown",
   "id": "0ee1c1e8",
   "metadata": {},
   "source": [
    "Zoha Azimi Ourimi - zoha.azimiourimi@studio.unibo.it"
   ]
  },
  {
   "cell_type": "markdown",
   "id": "3623f2ec",
   "metadata": {},
   "source": [
    "#### Installing required libraries and creating spark session"
   ]
  },
  {
   "cell_type": "code",
   "execution_count": 1,
   "id": "da977430",
   "metadata": {},
   "outputs": [
    {
     "name": "stdout",
     "output_type": "stream",
     "text": [
      "Requirement already satisfied: pyspark in c:\\users\\lenovo\\anaconda3\\envs\\bda\\lib\\site-packages (3.3.1)\n",
      "Requirement already satisfied: py4j==0.10.9.5 in c:\\users\\lenovo\\anaconda3\\envs\\bda\\lib\\site-packages (from pyspark) (0.10.9.5)\n"
     ]
    }
   ],
   "source": [
    "!pip install pyspark"
   ]
  },
  {
   "cell_type": "code",
   "execution_count": 2,
   "id": "3c268ce7",
   "metadata": {},
   "outputs": [
    {
     "name": "stdout",
     "output_type": "stream",
     "text": [
      "Requirement already satisfied: findspark in c:\\users\\lenovo\\anaconda3\\envs\\bda\\lib\\site-packages (2.0.1)\n"
     ]
    }
   ],
   "source": [
    "!pip install findspark"
   ]
  },
  {
   "cell_type": "code",
   "execution_count": 3,
   "id": "25f5d357",
   "metadata": {},
   "outputs": [],
   "source": [
    "import os\n",
    "import findspark\n",
    "from pyspark.sql import SparkSession\n",
    "from pyspark import SparkContext\n",
    "os.environ[\"JAVA_HOME\"] = \"C:\\Program Files\\Java\\jdk-19\"\n",
    "os.environ[\"SPARK_HOME\"] = 'C:\\\\Users\\\\Lenovo\\\\Desktop\\\\bdavm2\\\\spark'\n",
    "findspark.init()\n",
    "from pyspark.sql import SparkSession"
   ]
  },
  {
   "cell_type": "code",
   "execution_count": 4,
   "id": "6fca821e",
   "metadata": {},
   "outputs": [],
   "source": [
    "spark = SparkSession.builder.master(\"local\").appName(\"retail\").config(\"spark.executor.memory\", \"1gb\").getOrCreate()"
   ]
  },
  {
   "cell_type": "code",
   "execution_count": 5,
   "id": "5e3e5ab2",
   "metadata": {},
   "outputs": [],
   "source": [
    "sc = spark.sparkContext"
   ]
  },
  {
   "cell_type": "markdown",
   "id": "83e750d3",
   "metadata": {},
   "source": [
    "#### Loading the dataset and viweing the first rows"
   ]
  },
  {
   "cell_type": "code",
   "execution_count": 6,
   "id": "e653b0c2",
   "metadata": {},
   "outputs": [],
   "source": [
    "retail_data = spark.read.csv('retail/retail.csv',header = 'True',inferSchema='True')"
   ]
  },
  {
   "cell_type": "code",
   "execution_count": 7,
   "id": "9570c950",
   "metadata": {},
   "outputs": [
    {
     "name": "stdout",
     "output_type": "stream",
     "text": [
      "+-------+---------+--------------------+--------+--------------+-----+-----------+--------------+\n",
      "|Invoice|StockCode|         Description|Quantity|   InvoiceDate|Price|Customer ID|       Country|\n",
      "+-------+---------+--------------------+--------+--------------+-----+-----------+--------------+\n",
      "| 536365|   85123A|WHITE HANGING HEA...|       6|12/1/2010 8:26| 2.55|      17850|United Kingdom|\n",
      "| 536365|    71053| WHITE METAL LANTERN|       6|12/1/2010 8:26| 3.39|      17850|United Kingdom|\n",
      "| 536365|   84406B|CREAM CUPID HEART...|       8|12/1/2010 8:26| 2.75|      17850|United Kingdom|\n",
      "| 536365|   84029G|KNITTED UNION FLA...|       6|12/1/2010 8:26| 3.39|      17850|United Kingdom|\n",
      "| 536365|   84029E|RED WOOLLY HOTTIE...|       6|12/1/2010 8:26| 3.39|      17850|United Kingdom|\n",
      "| 536365|    22752|SET 7 BABUSHKA NE...|       2|12/1/2010 8:26| 7.65|      17850|United Kingdom|\n",
      "| 536365|    21730|GLASS STAR FROSTE...|       6|12/1/2010 8:26| 4.25|      17850|United Kingdom|\n",
      "| 536366|    22633|HAND WARMER UNION...|       6|12/1/2010 8:28| 1.85|      17850|United Kingdom|\n",
      "| 536366|    22632|HAND WARMER RED P...|       6|12/1/2010 8:28| 1.85|      17850|United Kingdom|\n",
      "| 536368|    22960|JAM MAKING SET WI...|       6|12/1/2010 8:34| 4.25|      13047|United Kingdom|\n",
      "| 536368|    22913|RED COAT RACK PAR...|       3|12/1/2010 8:34| 4.95|      13047|United Kingdom|\n",
      "| 536368|    22912|YELLOW COAT RACK ...|       3|12/1/2010 8:34| 4.95|      13047|United Kingdom|\n",
      "| 536368|    22914|BLUE COAT RACK PA...|       3|12/1/2010 8:34| 4.95|      13047|United Kingdom|\n",
      "| 536367|    84879|ASSORTED COLOUR B...|      32|12/1/2010 8:34| 1.69|      13047|United Kingdom|\n",
      "| 536367|    22745|POPPY'S PLAYHOUSE...|       6|12/1/2010 8:34|  2.1|      13047|United Kingdom|\n",
      "| 536367|    22748|POPPY'S PLAYHOUSE...|       6|12/1/2010 8:34|  2.1|      13047|United Kingdom|\n",
      "| 536367|    22749|FELTCRAFT PRINCES...|       8|12/1/2010 8:34| 3.75|      13047|United Kingdom|\n",
      "| 536367|    22310|IVORY KNITTED MUG...|       6|12/1/2010 8:34| 1.65|      13047|United Kingdom|\n",
      "| 536367|    84969|BOX OF 6 ASSORTED...|       6|12/1/2010 8:34| 4.25|      13047|United Kingdom|\n",
      "| 536367|    22623|BOX OF VINTAGE JI...|       3|12/1/2010 8:34| 4.95|      13047|United Kingdom|\n",
      "+-------+---------+--------------------+--------+--------------+-----+-----------+--------------+\n",
      "only showing top 20 rows\n",
      "\n"
     ]
    }
   ],
   "source": [
    "retail_data.show()"
   ]
  },
  {
   "cell_type": "markdown",
   "id": "8ad512ca",
   "metadata": {},
   "source": [
    "#### Installing and Importing Machine learning libraries"
   ]
  },
  {
   "cell_type": "code",
   "execution_count": 8,
   "id": "baebe8b1",
   "metadata": {
    "scrolled": true
   },
   "outputs": [
    {
     "name": "stdout",
     "output_type": "stream",
     "text": [
      "Requirement already satisfied: scikit-learn in c:\\users\\lenovo\\anaconda3\\envs\\bda\\lib\\site-packages (1.2.1)\n",
      "Requirement already satisfied: scipy in c:\\users\\lenovo\\anaconda3\\envs\\bda\\lib\\site-packages (1.10.0)\n",
      "Requirement already satisfied: matplotlib in c:\\users\\lenovo\\anaconda3\\envs\\bda\\lib\\site-packages (3.6.3)\n",
      "Requirement already satisfied: pandas in c:\\users\\lenovo\\anaconda3\\envs\\bda\\lib\\site-packages (1.5.3)\n",
      "Requirement already satisfied: seaborn in c:\\users\\lenovo\\anaconda3\\envs\\bda\\lib\\site-packages (0.12.2)\n",
      "Requirement already satisfied: threadpoolctl>=2.0.0 in c:\\users\\lenovo\\anaconda3\\envs\\bda\\lib\\site-packages (from scikit-learn) (3.1.0)\n",
      "Requirement already satisfied: joblib>=1.1.1 in c:\\users\\lenovo\\anaconda3\\envs\\bda\\lib\\site-packages (from scikit-learn) (1.2.0)\n",
      "Requirement already satisfied: numpy>=1.17.3 in c:\\users\\lenovo\\anaconda3\\envs\\bda\\lib\\site-packages (from scikit-learn) (1.24.1)\n",
      "Requirement already satisfied: pillow>=6.2.0 in c:\\users\\lenovo\\anaconda3\\envs\\bda\\lib\\site-packages (from matplotlib) (9.4.0)\n",
      "Requirement already satisfied: fonttools>=4.22.0 in c:\\users\\lenovo\\anaconda3\\envs\\bda\\lib\\site-packages (from matplotlib) (4.38.0)\n",
      "Requirement already satisfied: python-dateutil>=2.7 in c:\\users\\lenovo\\anaconda3\\envs\\bda\\lib\\site-packages (from matplotlib) (2.8.2)\n",
      "Requirement already satisfied: kiwisolver>=1.0.1 in c:\\users\\lenovo\\anaconda3\\envs\\bda\\lib\\site-packages (from matplotlib) (1.4.4)\n",
      "Requirement already satisfied: contourpy>=1.0.1 in c:\\users\\lenovo\\anaconda3\\envs\\bda\\lib\\site-packages (from matplotlib) (1.0.7)\n",
      "Requirement already satisfied: packaging>=20.0 in c:\\users\\lenovo\\anaconda3\\envs\\bda\\lib\\site-packages (from matplotlib) (22.0)\n",
      "Requirement already satisfied: pyparsing>=2.2.1 in c:\\users\\lenovo\\anaconda3\\envs\\bda\\lib\\site-packages (from matplotlib) (3.0.9)\n",
      "Requirement already satisfied: cycler>=0.10 in c:\\users\\lenovo\\anaconda3\\envs\\bda\\lib\\site-packages (from matplotlib) (0.11.0)\n",
      "Requirement already satisfied: pytz>=2020.1 in c:\\users\\lenovo\\anaconda3\\envs\\bda\\lib\\site-packages (from pandas) (2022.7.1)\n",
      "Requirement already satisfied: six>=1.5 in c:\\users\\lenovo\\anaconda3\\envs\\bda\\lib\\site-packages (from python-dateutil>=2.7->matplotlib) (1.16.0)\n"
     ]
    }
   ],
   "source": [
    "!pip install -U scikit-learn scipy matplotlib pandas seaborn "
   ]
  },
  {
   "cell_type": "code",
   "execution_count": 9,
   "id": "531d8c88",
   "metadata": {},
   "outputs": [],
   "source": [
    "import numpy as np\n",
    "from pyspark.ml.clustering import KMeans\n",
    "from pyspark.ml.feature import  StringIndexer, OneHotEncoder,VectorAssembler,StandardScaler\n",
    "from pyspark.sql import SparkSession\n",
    "from pyspark import SparkContext, SparkConf\n",
    "from pyspark.ml.tuning import CrossValidator, ParamGridBuilder\n",
    "from pyspark.ml.evaluation import ClusteringEvaluator\n",
    "from pyspark.sql.functions import col\n",
    "from sklearn.metrics import r2_score\n",
    "from pyspark.sql.functions import *\n",
    "from pyspark.sql.types import *\n",
    "import pandas as pd\n",
    "import matplotlib.pyplot as plt\n",
    "import seaborn as sns"
   ]
  },
  {
   "cell_type": "markdown",
   "id": "60f2dd0f",
   "metadata": {},
   "source": [
    "#### Changing some column names and datatype conversion"
   ]
  },
  {
   "cell_type": "code",
   "execution_count": 10,
   "id": "47b3a4ab",
   "metadata": {},
   "outputs": [
    {
     "name": "stdout",
     "output_type": "stream",
     "text": [
      "root\n",
      " |-- Invoice: string (nullable = true)\n",
      " |-- StockCode: string (nullable = true)\n",
      " |-- Description: string (nullable = true)\n",
      " |-- Quantity: integer (nullable = true)\n",
      " |-- InvoiceDate: string (nullable = true)\n",
      " |-- Price: double (nullable = true)\n",
      " |-- Customer ID: integer (nullable = true)\n",
      " |-- Country: string (nullable = true)\n",
      " |-- UnitPrice: float (nullable = true)\n",
      " |-- date: timestamp (nullable = true)\n",
      "\n"
     ]
    }
   ],
   "source": [
    "### Datatype conversion\n",
    "spark.sql(\"set spark.sql.legacy.timeParserPolicy=LEGACY\")\n",
    "\n",
    "data_sparkdf = retail_data.withColumn(\"Quantity\",col(\"Quantity\").cast('integer'))\\\n",
    "            .withColumn(\"UnitPrice\",col(\"Price\").cast('float'))\\\n",
    "            .withColumn('date',to_timestamp(\"InvoiceDate\", 'MM/dd/yy HH:mm'))\n",
    "\n",
    "\n",
    "data_sparkdf.printSchema()"
   ]
  },
  {
   "cell_type": "code",
   "execution_count": 11,
   "id": "a7b2e551",
   "metadata": {},
   "outputs": [
    {
     "name": "stdout",
     "output_type": "stream",
     "text": [
      "+-------+---------+--------------------+--------+--------------+-----+-----------+--------------+---------+-------------------+\n",
      "|Invoice|StockCode|         Description|Quantity|   InvoiceDate|Price|Customer ID|       Country|UnitPrice|               date|\n",
      "+-------+---------+--------------------+--------+--------------+-----+-----------+--------------+---------+-------------------+\n",
      "| 536365|   85123A|WHITE HANGING HEA...|       6|12/1/2010 8:26| 2.55|      17850|United Kingdom|     2.55|2010-12-01 08:26:00|\n",
      "| 536365|    71053| WHITE METAL LANTERN|       6|12/1/2010 8:26| 3.39|      17850|United Kingdom|     3.39|2010-12-01 08:26:00|\n",
      "+-------+---------+--------------------+--------+--------------+-----+-----------+--------------+---------+-------------------+\n",
      "only showing top 2 rows\n",
      "\n"
     ]
    }
   ],
   "source": [
    "data_sparkdf.show(2)"
   ]
  },
  {
   "cell_type": "markdown",
   "id": "c6a78206",
   "metadata": {},
   "source": [
    "#### Data Preprocessing"
   ]
  },
  {
   "cell_type": "code",
   "execution_count": 12,
   "id": "c4ea3e42",
   "metadata": {},
   "outputs": [
    {
     "data": {
      "text/plain": [
       "406830"
      ]
     },
     "execution_count": 12,
     "metadata": {},
     "output_type": "execute_result"
    }
   ],
   "source": [
    "# Drop rows with empty customer IDs\n",
    "data_sparkdf = data_sparkdf.na.drop(subset=[\"Customer ID\"])\n",
    "data_sparkdf.count()"
   ]
  },
  {
   "cell_type": "code",
   "execution_count": 13,
   "id": "100d6aab",
   "metadata": {},
   "outputs": [],
   "source": [
    "# Removing data points with values less than 0\n",
    "data_sparkdf = data_sparkdf.where(data_sparkdf.Quantity>0).where(data_sparkdf.UnitPrice>0)"
   ]
  },
  {
   "cell_type": "code",
   "execution_count": 14,
   "id": "cdb3a709",
   "metadata": {},
   "outputs": [],
   "source": [
    "# Register as temp table\n",
    "data_sparkdf.createOrReplaceTempView(\"retail\")"
   ]
  },
  {
   "cell_type": "code",
   "execution_count": 15,
   "id": "b8040555",
   "metadata": {},
   "outputs": [
    {
     "data": {
      "text/html": [
       "<div>\n",
       "<style scoped>\n",
       "    .dataframe tbody tr th:only-of-type {\n",
       "        vertical-align: middle;\n",
       "    }\n",
       "\n",
       "    .dataframe tbody tr th {\n",
       "        vertical-align: top;\n",
       "    }\n",
       "\n",
       "    .dataframe thead th {\n",
       "        text-align: right;\n",
       "    }\n",
       "</style>\n",
       "<table border=\"1\" class=\"dataframe\">\n",
       "  <thead>\n",
       "    <tr style=\"text-align: right;\">\n",
       "      <th></th>\n",
       "      <th>count(1)</th>\n",
       "    </tr>\n",
       "  </thead>\n",
       "  <tbody>\n",
       "    <tr>\n",
       "      <th>0</th>\n",
       "      <td>397885</td>\n",
       "    </tr>\n",
       "  </tbody>\n",
       "</table>\n",
       "</div>"
      ],
      "text/plain": [
       "   count(1)\n",
       "0    397885"
      ]
     },
     "execution_count": 15,
     "metadata": {},
     "output_type": "execute_result"
    }
   ],
   "source": [
    "# Number of rows\n",
    "spark.sql(\"SELECT COUNT(*) FROM retail\").toPandas()"
   ]
  },
  {
   "cell_type": "markdown",
   "id": "0eda8716",
   "metadata": {},
   "source": [
    "#### RFM Model\n",
    "The RFM model has received much attention and has been widely used in customer relationship management (CRM) and direct marketing due to its simplicity and effectiveness for evaluating a customer’s profitability.\n",
    "Given a set of transactional records of a business over a certain period of time, Recency indicates how recently a customer made a purchase with the business; Frequency shows how often a customer has purchased; and Monetary indicates the total (or \n",
    "average) a customer has spent. Therefore, each customer of the business can characterized by a set of RFM values, and further all the customers can be grouped into meaningful segments based on their RFM values so that various marketing strategies \n",
    "can be adopted to different customer groups accordingly. "
   ]
  },
  {
   "cell_type": "code",
   "execution_count": 16,
   "id": "a365e3d7",
   "metadata": {},
   "outputs": [
    {
     "name": "stderr",
     "output_type": "stream",
     "text": [
      "C:\\Users\\Lenovo\\anaconda3\\envs\\bda\\lib\\site-packages\\pyspark\\sql\\pandas\\conversion.py:248: FutureWarning: Passing unit-less datetime64 dtype to .astype is deprecated and will raise in a future version. Pass 'datetime64[ns]' instead\n",
      "  series = series.astype(t, copy=False)\n",
      "C:\\Users\\Lenovo\\anaconda3\\envs\\bda\\lib\\site-packages\\pyspark\\sql\\pandas\\conversion.py:248: FutureWarning: Passing unit-less datetime64 dtype to .astype is deprecated and will raise in a future version. Pass 'datetime64[ns]' instead\n",
      "  series = series.astype(t, copy=False)\n"
     ]
    },
    {
     "data": {
      "text/html": [
       "<div>\n",
       "<style scoped>\n",
       "    .dataframe tbody tr th:only-of-type {\n",
       "        vertical-align: middle;\n",
       "    }\n",
       "\n",
       "    .dataframe tbody tr th {\n",
       "        vertical-align: top;\n",
       "    }\n",
       "\n",
       "    .dataframe thead th {\n",
       "        text-align: right;\n",
       "    }\n",
       "</style>\n",
       "<table border=\"1\" class=\"dataframe\">\n",
       "  <thead>\n",
       "    <tr style=\"text-align: right;\">\n",
       "      <th></th>\n",
       "      <th>earliest</th>\n",
       "      <th>recent</th>\n",
       "    </tr>\n",
       "  </thead>\n",
       "  <tbody>\n",
       "    <tr>\n",
       "      <th>0</th>\n",
       "      <td>2010-12-01 08:26:00</td>\n",
       "      <td>2011-12-09 12:50:00</td>\n",
       "    </tr>\n",
       "  </tbody>\n",
       "</table>\n",
       "</div>"
      ],
      "text/plain": [
       "             earliest              recent\n",
       "0 2010-12-01 08:26:00 2011-12-09 12:50:00"
      ]
     },
     "execution_count": 16,
     "metadata": {},
     "output_type": "execute_result"
    }
   ],
   "source": [
    "# Most earliest & recent purchase date\n",
    "spark.sql(\"SELECT MIN(date) earliest,MAX(date) recent FROM retail\").toPandas().head(5)"
   ]
  },
  {
   "cell_type": "code",
   "execution_count": 17,
   "id": "b7a88d57",
   "metadata": {},
   "outputs": [
    {
     "name": "stderr",
     "output_type": "stream",
     "text": [
      "C:\\Users\\Lenovo\\anaconda3\\envs\\bda\\lib\\site-packages\\pyspark\\sql\\pandas\\conversion.py:248: FutureWarning: Passing unit-less datetime64 dtype to .astype is deprecated and will raise in a future version. Pass 'datetime64[ns]' instead\n",
      "  series = series.astype(t, copy=False)\n",
      "C:\\Users\\Lenovo\\anaconda3\\envs\\bda\\lib\\site-packages\\pyspark\\sql\\pandas\\conversion.py:248: FutureWarning: Passing unit-less datetime64 dtype to .astype is deprecated and will raise in a future version. Pass 'datetime64[ns]' instead\n",
      "  series = series.astype(t, copy=False)\n"
     ]
    },
    {
     "name": "stdout",
     "output_type": "stream",
     "text": [
      "  Invoice StockCode                     Description  Quantity  \\\n",
      "0  581587     22631        CIRCUS PARADE LUNCH BOX         12   \n",
      "1  581587     22556  PLASTERS IN TIN CIRCUS PARADE         12   \n",
      "2  581587     22555       PLASTERS IN TIN STRONGMAN        12   \n",
      "3  581587     22728       ALARM CLOCK BAKELIKE PINK         4   \n",
      "4  581587     22727       ALARM CLOCK BAKELIKE RED          4   \n",
      "\n",
      "       InvoiceDate  Price  Customer ID Country  UnitPrice                date  \\\n",
      "0  12/9/2011 12:50   1.95        12680  France       1.95 2011-12-09 12:50:00   \n",
      "1  12/9/2011 12:50   1.65        12680  France       1.65 2011-12-09 12:50:00   \n",
      "2  12/9/2011 12:50   1.65        12680  France       1.65 2011-12-09 12:50:00   \n",
      "3  12/9/2011 12:50   3.75        12680  France       3.75 2011-12-09 12:50:00   \n",
      "4  12/9/2011 12:50   3.75        12680  France       3.75 2011-12-09 12:50:00   \n",
      "\n",
      "            from_date  \n",
      "0 2011-12-09 12:50:00  \n",
      "1 2011-12-09 12:50:00  \n",
      "2 2011-12-09 12:50:00  \n",
      "3 2011-12-09 12:50:00  \n",
      "4 2011-12-09 12:50:00  \n"
     ]
    }
   ],
   "source": [
    "# Create most recent date column\n",
    "print(spark.sql(\"SELECT *,MAX(date) OVER(ORDER BY date DESC) from_date FROM retail\").toPandas().head(5))\n",
    "data_sparkdf = spark.sql(\"SELECT *,MAX(date) OVER(ORDER BY date DESC) from_date FROM retail\")"
   ]
  },
  {
   "cell_type": "code",
   "execution_count": 18,
   "id": "3ade4b74",
   "metadata": {},
   "outputs": [
    {
     "name": "stdout",
     "output_type": "stream",
     "text": [
      "+-------+---------+--------------------+--------+---------------+-----+-----------+-------+---------+-------------------+-------------------+------------+\n",
      "|Invoice|StockCode|         Description|Quantity|    InvoiceDate|Price|Customer ID|Country|UnitPrice|               date|          from_date|recency_days|\n",
      "+-------+---------+--------------------+--------+---------------+-----+-----------+-------+---------+-------------------+-------------------+------------+\n",
      "| 581587|    22631|CIRCUS PARADE LUN...|      12|12/9/2011 12:50| 1.95|      12680| France|     1.95|2011-12-09 12:50:00|2011-12-09 12:50:00|           1|\n",
      "| 581587|    22556|PLASTERS IN TIN C...|      12|12/9/2011 12:50| 1.65|      12680| France|     1.65|2011-12-09 12:50:00|2011-12-09 12:50:00|           1|\n",
      "+-------+---------+--------------------+--------+---------------+-----+-----------+-------+---------+-------------------+-------------------+------------+\n",
      "only showing top 2 rows\n",
      "\n"
     ]
    }
   ],
   "source": [
    "# Calculate the recency score\n",
    "data_sparkdf = data_sparkdf.withColumn('recency_days',datediff(col(\"from_date\"),col(\"date\"))+1)\n",
    "data_sparkdf.show(2)"
   ]
  },
  {
   "cell_type": "code",
   "execution_count": 19,
   "id": "d190c704",
   "metadata": {},
   "outputs": [
    {
     "name": "stdout",
     "output_type": "stream",
     "text": [
      "+-----------+-------+---------+--------------------+--------+---------------+-----+-------+---------+-------------------+-------------------+------------+-------+\n",
      "|Customer ID|Invoice|StockCode|         Description|Quantity|    InvoiceDate|Price|Country|UnitPrice|               date|          from_date|recency_days|recency|\n",
      "+-----------+-------+---------+--------------------+--------+---------------+-----+-------+---------+-------------------+-------------------+------------+-------+\n",
      "|      12680| 581587|    22631|CIRCUS PARADE LUN...|      12|12/9/2011 12:50| 1.95| France|     1.95|2011-12-09 12:50:00|2011-12-09 12:50:00|           1|      1|\n",
      "|      12680| 581587|    22556|PLASTERS IN TIN C...|      12|12/9/2011 12:50| 1.65| France|     1.65|2011-12-09 12:50:00|2011-12-09 12:50:00|           1|      1|\n",
      "+-----------+-------+---------+--------------------+--------+---------------+-----+-------+---------+-------------------+-------------------+------------+-------+\n",
      "only showing top 2 rows\n",
      "\n"
     ]
    }
   ],
   "source": [
    "# Calculate most recent purchase by customer\n",
    "data_sparkdf = data_sparkdf.join(data_sparkdf.groupby('Customer ID').agg(min('recency_days').alias('recency')),on='Customer ID',how='left')\n",
    "\n",
    "data_sparkdf.show(2)"
   ]
  },
  {
   "cell_type": "code",
   "execution_count": 20,
   "id": "35b1edf2",
   "metadata": {},
   "outputs": [],
   "source": [
    "data_sparkdf = data_sparkdf.join(data_sparkdf.groupby('Customer ID').agg(count('Invoice').alias('frequency')),on='Customer ID',how='inner')"
   ]
  },
  {
   "cell_type": "code",
   "execution_count": 21,
   "id": "09259d5d",
   "metadata": {},
   "outputs": [
    {
     "name": "stdout",
     "output_type": "stream",
     "text": [
      "+-----------+-------+---------+--------------------+--------+--------------+-----+--------------+---------+-------------------+-------------------+------------+-------+---------+\n",
      "|Customer ID|Invoice|StockCode|         Description|Quantity|   InvoiceDate|Price|       Country|UnitPrice|               date|          from_date|recency_days|recency|frequency|\n",
      "+-----------+-------+---------+--------------------+--------+--------------+-----+--------------+---------+-------------------+-------------------+------------+-------+---------+\n",
      "|      17389| 581485|    22617|BAKING SET SPACEB...|      18|12/9/2011 9:38| 4.95|United Kingdom|     4.95|2011-12-09 09:38:00|2011-12-09 12:50:00|           1|      1|      213|\n",
      "|      17389| 581485|    22768|FAMILY PHOTO FRAM...|      12|12/9/2011 9:38| 9.95|United Kingdom|     9.95|2011-12-09 09:38:00|2011-12-09 12:50:00|           1|      1|      213|\n",
      "+-----------+-------+---------+--------------------+--------+--------------+-----+--------------+---------+-------------------+-------------------+------------+-------+---------+\n",
      "only showing top 2 rows\n",
      "\n"
     ]
    }
   ],
   "source": [
    "data_sparkdf.show(2)"
   ]
  },
  {
   "cell_type": "code",
   "execution_count": 22,
   "id": "5796d0e8",
   "metadata": {},
   "outputs": [],
   "source": [
    "# Calculat total amount spent by each customer in one purchase\n",
    "data_sparkdf = data_sparkdf.withColumn('TotalValue',col('UnitPrice')*col('Quantity'))"
   ]
  },
  {
   "cell_type": "code",
   "execution_count": 23,
   "id": "7f47af21",
   "metadata": {},
   "outputs": [],
   "source": [
    "data_sparkdf = data_sparkdf.join(data_sparkdf.groupBy('Customer ID').agg(sum('TotalValue').alias('monetary_value')),on='Customer ID',how='inner')"
   ]
  },
  {
   "cell_type": "code",
   "execution_count": 24,
   "id": "f11a8f02",
   "metadata": {},
   "outputs": [
    {
     "name": "stdout",
     "output_type": "stream",
     "text": [
      "+-----------+-------+---------+--------------------+--------+--------------+-----+--------------+---------+-------------------+-------------------+------------+-------+---------+----------+-----------------+\n",
      "|Customer ID|Invoice|StockCode|         Description|Quantity|   InvoiceDate|Price|       Country|UnitPrice|               date|          from_date|recency_days|recency|frequency|TotalValue|   monetary_value|\n",
      "+-----------+-------+---------+--------------------+--------+--------------+-----+--------------+---------+-------------------+-------------------+------------+-------+---------+----------+-----------------+\n",
      "|      17389| 581485|    22617|BAKING SET SPACEB...|      18|12/9/2011 9:38| 4.95|United Kingdom|     4.95|2011-12-09 09:38:00|2011-12-09 12:50:00|           1|      1|      213|      89.1|31833.67953133583|\n",
      "|      17389| 581485|    22768|FAMILY PHOTO FRAM...|      12|12/9/2011 9:38| 9.95|United Kingdom|     9.95|2011-12-09 09:38:00|2011-12-09 12:50:00|           1|      1|      213|119.399994|31833.67953133583|\n",
      "+-----------+-------+---------+--------------------+--------+--------------+-----+--------------+---------+-------------------+-------------------+------------+-------+---------+----------+-----------------+\n",
      "only showing top 2 rows\n",
      "\n"
     ]
    }
   ],
   "source": [
    "data_sparkdf.show(2)"
   ]
  },
  {
   "cell_type": "code",
   "execution_count": 25,
   "id": "e497039e",
   "metadata": {},
   "outputs": [
    {
     "data": {
      "text/plain": [
       "4338"
      ]
     },
     "execution_count": 25,
     "metadata": {},
     "output_type": "execute_result"
    }
   ],
   "source": [
    "final_data_sparkdf = data_sparkdf.select(['recency','frequency','monetary_value','Customer ID']).distinct()\n",
    "final_data_sparkdf.count()"
   ]
  },
  {
   "cell_type": "markdown",
   "id": "20c658e1",
   "metadata": {},
   "source": [
    "#### Result of RFM model with recency, frequency and monetary score columns"
   ]
  },
  {
   "cell_type": "code",
   "execution_count": 26,
   "id": "1246595c",
   "metadata": {},
   "outputs": [
    {
     "name": "stdout",
     "output_type": "stream",
     "text": [
      "+-------+---------+------------------+-----------+\n",
      "|recency|frequency|    monetary_value|Customer ID|\n",
      "+-------+---------+------------------+-----------+\n",
      "|     51|       30| 598.8299922943115|      17420|\n",
      "|    107|       84|1431.9299898147583|      16503|\n",
      "|     17|      302| 5178.960026443005|      15727|\n",
      "|      1|      213| 31833.67953133583|      17389|\n",
      "+-------+---------+------------------+-----------+\n",
      "only showing top 4 rows\n",
      "\n"
     ]
    }
   ],
   "source": [
    "final_data_sparkdf.show(4)"
   ]
  },
  {
   "cell_type": "markdown",
   "id": "0c8e4562",
   "metadata": {},
   "source": [
    "#### Second step data processing "
   ]
  },
  {
   "cell_type": "code",
   "execution_count": 27,
   "id": "08a35c90",
   "metadata": {},
   "outputs": [],
   "source": [
    "# Assemble features in a single columns\n",
    "assemble=VectorAssembler(inputCols=['recency','frequency','monetary_value'], outputCol='assembled_features', handleInvalid=\"skip\")\n",
    "assembled_data_sparkdf =assemble.transform(final_data_sparkdf)"
   ]
  },
  {
   "cell_type": "code",
   "execution_count": 28,
   "id": "ccc445b3",
   "metadata": {},
   "outputs": [],
   "source": [
    "# Standardise features\n",
    "scale=StandardScaler(inputCol='assembled_features',outputCol='features')\n",
    "data_scale=scale.fit(assembled_data_sparkdf)\n",
    "scaled_data_sparkdf =data_scale.transform(assembled_data_sparkdf)"
   ]
  },
  {
   "cell_type": "markdown",
   "id": "d5dded16",
   "metadata": {},
   "source": [
    "#### Separating train and test splits"
   ]
  },
  {
   "cell_type": "code",
   "execution_count": 29,
   "id": "99c338f4",
   "metadata": {},
   "outputs": [],
   "source": [
    "(trainingData, testData) = scaled_data_sparkdf.randomSplit([0.8, 0.2],seed = 11)"
   ]
  },
  {
   "cell_type": "markdown",
   "id": "789e0e55",
   "metadata": {},
   "source": [
    "#### Applying 3 different ML techniques for clustering of customers "
   ]
  },
  {
   "cell_type": "markdown",
   "id": "52a01c48",
   "metadata": {},
   "source": [
    "### K MEANS"
   ]
  },
  {
   "cell_type": "markdown",
   "id": "5ad25c3e",
   "metadata": {},
   "source": [
    "#### k-means clustering is one of the most popular algorithms in data mining for grouping samples into a certain number of groups (clusters) based on Euclidean similarity measure. in this work, a vector represents a customer’s RFM values in the form a vector, and these vectors are to be assigned to k clusters."
   ]
  },
  {
   "cell_type": "code",
   "execution_count": 30,
   "id": "caedd578",
   "metadata": {},
   "outputs": [
    {
     "name": "stdout",
     "output_type": "stream",
     "text": [
      "2\n",
      "3\n",
      "4\n",
      "5\n",
      "6\n",
      "7\n",
      "8\n",
      "9\n"
     ]
    }
   ],
   "source": [
    "# Find optimum number of clusters\n",
    "cost ={}\n",
    "\n",
    "for i in range(2,10):\n",
    "    KMeans_algo=KMeans(featuresCol='features',k=i)\n",
    "    KMeans_fit=KMeans_algo.fit(trainingData)\n",
    "    output=KMeans_fit.transform(trainingData)\n",
    "    cost[i] = KMeans_fit.summary.trainingCost\n",
    "    print(i)"
   ]
  },
  {
   "cell_type": "code",
   "execution_count": 31,
   "id": "582e4bb8",
   "metadata": {},
   "outputs": [
    {
     "data": {
      "text/plain": [
       "{2: 6906.144966667058,\n",
       " 3: 3818.63493865253,\n",
       " 4: 3297.5458318531096,\n",
       " 5: 2275.3169839744305,\n",
       " 6: 1958.3934982784538,\n",
       " 7: 1573.142288898547,\n",
       " 8: 1338.0571101217706,\n",
       " 9: 1145.706628249468}"
      ]
     },
     "execution_count": 31,
     "metadata": {},
     "output_type": "execute_result"
    }
   ],
   "source": [
    "cost"
   ]
  },
  {
   "cell_type": "code",
   "execution_count": 32,
   "id": "15d404a5",
   "metadata": {},
   "outputs": [
    {
     "data": {
      "text/plain": [
       "<AxesSubplot: >"
      ]
     },
     "execution_count": 32,
     "metadata": {},
     "output_type": "execute_result"
    },
    {
     "data": {
      "image/png": "[encoded data removed]",
      "text/plain": [
       "<Figure size 640x480 with 1 Axes>"
      ]
     },
     "metadata": {},
     "output_type": "display_data"
    }
   ],
   "source": [
    "pd.DataFrame.from_dict(cost,orient='index').plot(kind='line')"
   ]
  },
  {
   "cell_type": "code",
   "execution_count": 33,
   "id": "73dd850f",
   "metadata": {},
   "outputs": [],
   "source": [
    "# using k=4 as the number of nearest neighbors\n",
    "KMeans_algo=KMeans(featuresCol='features',k=4)\n",
    "KMeans_fit=KMeans_algo.fit(trainingData)"
   ]
  },
  {
   "cell_type": "code",
   "execution_count": 34,
   "id": "1c792101",
   "metadata": {},
   "outputs": [],
   "source": [
    "prediction = KMeans_fit.transform(testData)"
   ]
  },
  {
   "cell_type": "code",
   "execution_count": 35,
   "id": "d4dab93e",
   "metadata": {},
   "outputs": [
    {
     "data": {
      "text/html": [
       "<div>\n",
       "<style scoped>\n",
       "    .dataframe tbody tr th:only-of-type {\n",
       "        vertical-align: middle;\n",
       "    }\n",
       "\n",
       "    .dataframe tbody tr th {\n",
       "        vertical-align: top;\n",
       "    }\n",
       "\n",
       "    .dataframe thead th {\n",
       "        text-align: right;\n",
       "    }\n",
       "</style>\n",
       "<table border=\"1\" class=\"dataframe\">\n",
       "  <thead>\n",
       "    <tr style=\"text-align: right;\">\n",
       "      <th></th>\n",
       "      <th>recency</th>\n",
       "      <th>frequency</th>\n",
       "      <th>monetary_value</th>\n",
       "      <th>Customer ID</th>\n",
       "      <th>assembled_features</th>\n",
       "      <th>features</th>\n",
       "      <th>prediction</th>\n",
       "    </tr>\n",
       "  </thead>\n",
       "  <tbody>\n",
       "    <tr>\n",
       "      <th>0</th>\n",
       "      <td>1</td>\n",
       "      <td>54</td>\n",
       "      <td>2085.080013</td>\n",
       "      <td>16954</td>\n",
       "      <td>[1.0, 54.0, 2085.0800132751465]</td>\n",
       "      <td>[0.009998773726221351, 0.23602940390664534, 0....</td>\n",
       "      <td>0</td>\n",
       "    </tr>\n",
       "    <tr>\n",
       "      <th>1</th>\n",
       "      <td>1</td>\n",
       "      <td>71</td>\n",
       "      <td>1316.660006</td>\n",
       "      <td>12526</td>\n",
       "      <td>[1.0, 71.0, 1316.6600060462952]</td>\n",
       "      <td>[0.009998773726221351, 0.310334956988367, 0.14...</td>\n",
       "      <td>0</td>\n",
       "    </tr>\n",
       "    <tr>\n",
       "      <th>2</th>\n",
       "      <td>1</td>\n",
       "      <td>125</td>\n",
       "      <td>1859.310003</td>\n",
       "      <td>12423</td>\n",
       "      <td>[1.0, 125.0, 1859.3100028038025]</td>\n",
       "      <td>[0.009998773726221351, 0.5463643608950124, 0.2...</td>\n",
       "      <td>0</td>\n",
       "    </tr>\n",
       "    <tr>\n",
       "      <th>3</th>\n",
       "      <td>1</td>\n",
       "      <td>157</td>\n",
       "      <td>3641.320016</td>\n",
       "      <td>13426</td>\n",
       "      <td>[1.0, 157.0, 3641.3200159072876]</td>\n",
       "      <td>[0.009998773726221351, 0.6862336372841356, 0.4...</td>\n",
       "      <td>0</td>\n",
       "    </tr>\n",
       "    <tr>\n",
       "      <th>4</th>\n",
       "      <td>1</td>\n",
       "      <td>169</td>\n",
       "      <td>3989.569970</td>\n",
       "      <td>17001</td>\n",
       "      <td>[1.0, 169.0, 3989.5699696540833]</td>\n",
       "      <td>[0.009998773726221351, 0.7386846159300567, 0.4...</td>\n",
       "      <td>0</td>\n",
       "    </tr>\n",
       "  </tbody>\n",
       "</table>\n",
       "</div>"
      ],
      "text/plain": [
       "   recency  frequency  monetary_value  Customer ID  \\\n",
       "0        1         54     2085.080013        16954   \n",
       "1        1         71     1316.660006        12526   \n",
       "2        1        125     1859.310003        12423   \n",
       "3        1        157     3641.320016        13426   \n",
       "4        1        169     3989.569970        17001   \n",
       "\n",
       "                 assembled_features  \\\n",
       "0   [1.0, 54.0, 2085.0800132751465]   \n",
       "1   [1.0, 71.0, 1316.6600060462952]   \n",
       "2  [1.0, 125.0, 1859.3100028038025]   \n",
       "3  [1.0, 157.0, 3641.3200159072876]   \n",
       "4  [1.0, 169.0, 3989.5699696540833]   \n",
       "\n",
       "                                            features  prediction  \n",
       "0  [0.009998773726221351, 0.23602940390664534, 0....           0  \n",
       "1  [0.009998773726221351, 0.310334956988367, 0.14...           0  \n",
       "2  [0.009998773726221351, 0.5463643608950124, 0.2...           0  \n",
       "3  [0.009998773726221351, 0.6862336372841356, 0.4...           0  \n",
       "4  [0.009998773726221351, 0.7386846159300567, 0.4...           0  "
      ]
     },
     "execution_count": 35,
     "metadata": {},
     "output_type": "execute_result"
    }
   ],
   "source": [
    "result_df = prediction.toPandas()\n",
    "result_df.head()"
   ]
  },
  {
   "cell_type": "code",
   "execution_count": 36,
   "id": "3350d494",
   "metadata": {},
   "outputs": [
    {
     "data": {
      "text/plain": [
       "0.7486118329356911"
      ]
     },
     "execution_count": 36,
     "metadata": {},
     "output_type": "execute_result"
    }
   ],
   "source": [
    "from pyspark.ml.evaluation import ClusteringEvaluator\n",
    "\n",
    "# squared euclidean distance\n",
    "\n",
    "evaluator = ClusteringEvaluator()\n",
    "evaluator.evaluate(prediction)\n",
    "\n"
   ]
  },
  {
   "cell_type": "code",
   "execution_count": 37,
   "id": "91c95765",
   "metadata": {},
   "outputs": [
    {
     "name": "stdout",
     "output_type": "stream",
     "text": [
      "[0.42910928 0.44227997 0.20128341]\n",
      "[2.49814795 0.12295885 0.06071307]\n",
      "[ 0.02499693 19.0757653  14.54283648]\n",
      "[ 0.08907998  3.24162942 11.17882683]\n"
     ]
    }
   ],
   "source": [
    "centers = KMeans_fit.clusterCenters()\n",
    "for center in centers:\n",
    "    print(center)"
   ]
  },
  {
   "cell_type": "code",
   "execution_count": 38,
   "id": "b1e59515",
   "metadata": {},
   "outputs": [
    {
     "name": "stderr",
     "output_type": "stream",
     "text": [
      "C:\\Users\\Lenovo\\AppData\\Local\\Temp\\ipykernel_18516\\506938393.py:1: FutureWarning: The default value of numeric_only in DataFrameGroupBy.mean is deprecated. In a future version, numeric_only will default to False. Either specify numeric_only or select only columns which should be valid for the function.\n",
      "  avg_df = result_df.groupby(['prediction'], as_index=False).mean()\n"
     ]
    },
    {
     "data": {
      "image/png": "[encoded data removed]",
      "text/plain": [
       "<Figure size 640x480 with 1 Axes>"
      ]
     },
     "metadata": {},
     "output_type": "display_data"
    },
    {
     "data": {
      "image/png": "[encoded data removed]",
      "text/plain": [
       "<Figure size 640x480 with 1 Axes>"
      ]
     },
     "metadata": {},
     "output_type": "display_data"
    },
    {
     "data": {
      "image/png": "[encoded data removed]",
      "text/plain": [
       "<Figure size 640x480 with 1 Axes>"
      ]
     },
     "metadata": {},
     "output_type": "display_data"
    }
   ],
   "source": [
    "avg_df = result_df.groupby(['prediction'], as_index=False).mean()\n",
    "\n",
    "list1 = ['recency','frequency','monetary_value']\n",
    "\n",
    "for i in list1:\n",
    "    sns.barplot(x='prediction',y=str(i),data=avg_df)\n",
    "    plt.show()"
   ]
  },
  {
   "cell_type": "markdown",
   "id": "4863d47a",
   "metadata": {},
   "source": [
    "### Bisecting k-means"
   ]
  },
  {
   "cell_type": "markdown",
   "id": "06c4b3ad",
   "metadata": {},
   "source": [
    "#### Bisecting K-Means Algorithm is a modification of the K-Means algorithm. It is a hybrid approach between partitional and hierarchical clustering. It can recognize clusters of any shape and size."
   ]
  },
  {
   "cell_type": "code",
   "execution_count": 39,
   "id": "64ef049d",
   "metadata": {},
   "outputs": [],
   "source": [
    "from pyspark.ml.clustering import BisectingKMeans\n",
    "\n",
    "bkm = BisectingKMeans().setK(2).setSeed(1)\n",
    "bkm_model = bkm.fit(trainingData)"
   ]
  },
  {
   "cell_type": "code",
   "execution_count": 40,
   "id": "cf38e7ce",
   "metadata": {},
   "outputs": [],
   "source": [
    "bkm_predictions = bkm_model.transform(testData)\n"
   ]
  },
  {
   "cell_type": "code",
   "execution_count": 41,
   "id": "6ad23f08",
   "metadata": {},
   "outputs": [
    {
     "data": {
      "text/plain": [
       "0.3626216874884191"
      ]
     },
     "execution_count": 41,
     "metadata": {},
     "output_type": "execute_result"
    }
   ],
   "source": [
    "from pyspark.ml.evaluation import ClusteringEvaluator\n",
    "\n",
    "# squared euclidean distance\n",
    "\n",
    "evaluator_lda = ClusteringEvaluator()\n",
    "evaluator_lda.evaluate(bkm_predictions)"
   ]
  },
  {
   "cell_type": "markdown",
   "id": "4b2121b6",
   "metadata": {},
   "source": [
    "### Gaussian Mixture Model (GMM)"
   ]
  },
  {
   "cell_type": "markdown",
   "id": "ab8ad5de",
   "metadata": {},
   "source": [
    "#### A Gaussian mixture model is a probabilistic model that assumes all the data points are generated from a mixture of a finite number of Gaussian distributions with unknown parameters. We can think of mixture models as generalizing k-means clustering to incorporate information about the covariance structure of the data as well as the centers of the latent Gaussians."
   ]
  },
  {
   "cell_type": "code",
   "execution_count": 42,
   "id": "6c017a62",
   "metadata": {},
   "outputs": [
    {
     "name": "stdout",
     "output_type": "stream",
     "text": [
      "Gaussians shown as a DataFrame: \n",
      "+-----------------------------------------------------------+----------------------------------------------------------------------------------------------------------------------------------------------------------------------------------------------------------+\n",
      "|mean                                                       |cov                                                                                                                                                                                                       |\n",
      "+-----------------------------------------------------------+----------------------------------------------------------------------------------------------------------------------------------------------------------------------------------------------------------+\n",
      "|[0.12191340439008586,2.524194531178163,1.8696031303484248] |0.02008174185152527   -0.07256259600287268  -0.0453794354774016  \\n-0.07256259600287268  9.291449408356737     3.904832909190935    \\n-0.0453794354774016   3.904832909190935     15.363275202639645      |\n",
      "|[0.9781432417378079,0.2766355332096129,0.12659412159988404]|1.015038877062485     -0.10580937766946825  -0.04783533194954506  \\n-0.10580937766946825  0.0872171706020029    0.030389225672456503  \\n-0.04783533194954506  0.030389225672456503  0.026958633291584072  |\n",
      "+-----------------------------------------------------------+----------------------------------------------------------------------------------------------------------------------------------------------------------------------------------------------------------+\n",
      "\n"
     ]
    }
   ],
   "source": [
    "from pyspark.ml.clustering import GaussianMixture\n",
    "\n",
    "gmm = GaussianMixture().setK(2).setSeed(2)\n",
    "gmm_model = gmm.fit(trainingData)\n",
    "\n",
    "print(\"Gaussians shown as a DataFrame: \")\n",
    "gmm_model.gaussiansDF.show(truncate=False)"
   ]
  },
  {
   "cell_type": "code",
   "execution_count": 43,
   "id": "2b6a1b21",
   "metadata": {},
   "outputs": [],
   "source": [
    "gmm_predictions = gmm_model.transform(testData)"
   ]
  },
  {
   "cell_type": "code",
   "execution_count": 44,
   "id": "c27c0e95",
   "metadata": {},
   "outputs": [
    {
     "data": {
      "text/plain": [
       "0.7880849729090835"
      ]
     },
     "execution_count": 44,
     "metadata": {},
     "output_type": "execute_result"
    }
   ],
   "source": [
    "evaluator = ClusteringEvaluator()\n",
    "evaluator.evaluate(gmm_predictions)"
   ]
  },
  {
   "cell_type": "markdown",
   "id": "40cb3136",
   "metadata": {},
   "source": [
    "#### The results show that among the 3 methods of clustering: K means, Bisecting K means and Gaussian Mixture Model, GMM has the best performance. K Means is in the second place very close to GMM, but Bisecting K Means doesn't have a good performance for this task. "
   ]
  },
  {
   "cell_type": "code",
   "execution_count": null,
   "id": "de8d0617",
   "metadata": {},
   "outputs": [],
   "source": []
  }
 ],
 "metadata": {
  "kernelspec": {
   "display_name": "Python 3 (ipykernel)",
   "language": "python",
   "name": "python3"
  },
  "language_info": {
   "codemirror_mode": {
    "name": "ipython",
    "version": 3
   },
   "file_extension": ".py",
   "mimetype": "text/x-python",
   "name": "python",
   "nbconvert_exporter": "python",
   "pygments_lexer": "ipython3",
   "version": "3.10.9"
  }
 },
 "nbformat": 4,
 "nbformat_minor": 5
}
